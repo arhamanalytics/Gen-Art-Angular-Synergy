{
 "cells": [
  {
   "cell_type": "code",
   "execution_count": null,
   "id": "f470eb28",
   "metadata": {},
   "outputs": [],
   "source": [
    "import turtle\n",
    "\n",
    "colors = ['indigo', 'purple', 'medium purple', 'blue violet', 'dark violet', 'dark orchid']\n",
    "t = turtle.Pen()\n",
    "t.clear()\n",
    "\n",
    "turtle.bgcolor('black')\n",
    "for x in range(200):\n",
    "    t.pencolor(colors[x%6])\n",
    "    t.width(x//100+1)\n",
    "    t.forward(x)\n",
    "    t.left(50)\n",
    "    t.backward(x/2)"
   ]
  }
 ],
 "metadata": {
  "kernelspec": {
   "display_name": "Python 3 (ipykernel)",
   "language": "python",
   "name": "python3"
  },
  "language_info": {
   "codemirror_mode": {
    "name": "ipython",
    "version": 3
   },
   "file_extension": ".py",
   "mimetype": "text/x-python",
   "name": "python",
   "nbconvert_exporter": "python",
   "pygments_lexer": "ipython3",
   "version": "3.9.7"
  }
 },
 "nbformat": 4,
 "nbformat_minor": 5
}
